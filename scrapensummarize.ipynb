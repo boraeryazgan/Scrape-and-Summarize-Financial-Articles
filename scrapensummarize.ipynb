{
 "cells": [
  {
   "cell_type": "code",
   "execution_count": 2,
   "metadata": {
    "collapsed": true,
    "ExecuteTime": {
     "end_time": "2023-07-05T06:45:29.733518Z",
     "start_time": "2023-07-05T06:45:29.728964Z"
    }
   },
   "outputs": [],
   "source": [
    "from transformers import PegasusTokenizer,TFPegasusForConditionalGeneration\n",
    "from bs4 import BeautifulSoup\n",
    "import requests"
   ]
  },
  {
   "cell_type": "code",
   "execution_count": 3,
   "outputs": [
    {
     "name": "stderr",
     "output_type": "stream",
     "text": [
      "All PyTorch model weights were used when initializing TFPegasusForConditionalGeneration.\n",
      "\n",
      "Some weights or buffers of the TF 2.0 model TFPegasusForConditionalGeneration were not initialized from the PyTorch model and are newly initialized: ['model.encoder.embed_positions.weight', 'model.decoder.embed_positions.weight']\n",
      "You should probably TRAIN this model on a down-stream task to be able to use it for predictions and inference.\n"
     ]
    }
   ],
   "source": [
    "tokenizer = PegasusTokenizer.from_pretrained(\"human-centered-summarization/financial-summarization-pegasus\")\n",
    "model = TFPegasusForConditionalGeneration.from_pretrained(\"human-centered-summarization/financial-summarization-pegasus\")"
   ],
   "metadata": {
    "collapsed": false,
    "ExecuteTime": {
     "end_time": "2023-07-05T06:46:21.167408Z",
     "start_time": "2023-07-05T06:45:30.367522Z"
    }
   }
  },
  {
   "cell_type": "code",
   "execution_count": 4,
   "outputs": [],
   "source": [
    "url = \"https://finance.yahoo.com/news/jobs-report-and-july-4th-what-to-know-this-week-133121420.html\"\n",
    "r = requests.get(url)\n",
    "soup = BeautifulSoup(r.text,\"html.parser\")\n",
    "paragraphs = soup.find_all(\"p\")"
   ],
   "metadata": {
    "collapsed": false,
    "ExecuteTime": {
     "end_time": "2023-07-05T06:46:28.285286Z",
     "start_time": "2023-07-05T06:46:27.374761Z"
    }
   }
  },
  {
   "cell_type": "code",
   "execution_count": 5,
   "outputs": [
    {
     "data": {
      "text/plain": "\"Economists expect job growth slowed in June while the unemployment rate is forecast to decline again. Friday's report will serve as one of only a few crucial data points that fall between now and the Federal Reserve's next policy announcement, which is set for July 26.\""
     },
     "execution_count": 5,
     "metadata": {},
     "output_type": "execute_result"
    }
   ],
   "source": [
    "paragraphs[1].get_text()"
   ],
   "metadata": {
    "collapsed": false,
    "ExecuteTime": {
     "end_time": "2023-07-05T06:46:29.948932Z",
     "start_time": "2023-07-05T06:46:29.943611Z"
    }
   }
  },
  {
   "cell_type": "code",
   "execution_count": 6,
   "outputs": [
    {
     "data": {
      "text/plain": "2986"
     },
     "execution_count": 6,
     "metadata": {},
     "output_type": "execute_result"
    }
   ],
   "source": [
    "text = [paragraph.get_text() for paragraph in paragraphs]\n",
    "article =' '.join(text)\n",
    "words = article.split()[:512]\n",
    "reconstructed_article = ' '.join(words)#Because of the error I get\n",
    "#Token indices sequence length is longer than the specified maximum sequence length for this model (1485 > 512). Running this sequence through the model will result in indexing errors(error that I get before)\n",
    "len(reconstructed_article)"
   ],
   "metadata": {
    "collapsed": false,
    "ExecuteTime": {
     "end_time": "2023-07-05T06:46:33.453105Z",
     "start_time": "2023-07-05T06:46:33.447578Z"
    }
   }
  },
  {
   "cell_type": "code",
   "execution_count": 7,
   "outputs": [],
   "source": [
    "encoder = tokenizer.encode(article,return_tensors=\"tf\")\n",
    "output = model.generate(encoder,max_length=55,early_stopping=True)\n",
    "decoder = tokenizer.decode(output[0],skip_special_tokens=True)"
   ],
   "metadata": {
    "collapsed": false,
    "ExecuteTime": {
     "end_time": "2023-07-05T06:46:35.545873Z",
     "start_time": "2023-07-05T06:46:35.534483Z"
    }
   }
  },
  {
   "cell_type": "code",
   "execution_count": 9,
   "outputs": [],
   "source": [
    "decoder"
   ],
   "metadata": {
    "collapsed": false,
    "ExecuteTime": {
     "end_time": "2023-07-05T06:48:11.253119Z",
     "start_time": "2023-07-05T06:47:25.781319Z"
    }
   }
  },
  {
   "cell_type": "code",
   "execution_count": 10,
   "outputs": [
    {
     "data": {
      "text/plain": "'Weekly jobless claims, ADP and monthly read on private payrolls are due out.'"
     },
     "execution_count": 10,
     "metadata": {},
     "output_type": "execute_result"
    }
   ],
   "source": [],
   "metadata": {
    "collapsed": false,
    "ExecuteTime": {
     "end_time": "2023-07-05T06:48:11.287515Z",
     "start_time": "2023-07-05T06:48:11.150696Z"
    }
   }
  }
 ],
 "metadata": {
  "kernelspec": {
   "display_name": "Python 3",
   "language": "python",
   "name": "python3"
  },
  "language_info": {
   "codemirror_mode": {
    "name": "ipython",
    "version": 2
   },
   "file_extension": ".py",
   "mimetype": "text/x-python",
   "name": "python",
   "nbconvert_exporter": "python",
   "pygments_lexer": "ipython2",
   "version": "2.7.6"
  }
 },
 "nbformat": 4,
 "nbformat_minor": 0
}
